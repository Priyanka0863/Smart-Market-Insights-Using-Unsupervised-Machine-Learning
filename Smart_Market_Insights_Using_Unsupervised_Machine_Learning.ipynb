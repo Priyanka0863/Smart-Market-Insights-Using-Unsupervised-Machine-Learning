{
  "nbformat": 4,
  "nbformat_minor": 0,
  "metadata": {
    "colab": {
      "provenance": []
    },
    "kernelspec": {
      "name": "python3",
      "display_name": "Python 3"
    },
    "language_info": {
      "name": "python"
    }
  },
  "cells": [
    {
      "cell_type": "code",
      "execution_count": 1,
      "metadata": {
        "id": "jkGOJiOFp5CH"
      },
      "outputs": [],
      "source": [
        "import pandas as pd\n",
        "import numpy as np\n",
        "import matplotlib.pyplot as plt\n",
        "import seaborn as sns\n",
        "from sklearn.model_selection import train_test_split\n",
        "from sklearn.feature_extraction.text import TfidfVectorizer\n",
        "from sklearn.cluster import KMeans\n",
        "from sklearn.metrics import silhouette_score\n",
        "from mlxtend.frequent_patterns import apriori, association_rules\n",
        "from mlxtend.preprocessing import TransactionEncoder"
      ]
    },
    {
      "cell_type": "code",
      "source": [
        "df = pd.read_csv(\"products.csv\")\n",
        "print(\"Available columns:\", df.columns.tolist())\n",
        "print(df.head())\n",
        "print(df.info())"
      ],
      "metadata": {
        "colab": {
          "base_uri": "https://localhost:8080/"
        },
        "id": "LVotDoheqXww",
        "outputId": "745f8479-5339-440f-da82-63b592ba91e6"
      },
      "execution_count": 2,
      "outputs": [
        {
          "output_type": "stream",
          "name": "stdout",
          "text": [
            "Available columns: ['TransactionID', 'CustomerID', 'Products', 'Timestamp']\n",
            "   TransactionID CustomerID  \\\n",
            "0              1       C546   \n",
            "1              2       C385   \n",
            "2              3       C292   \n",
            "3              4       C863   \n",
            "4              5       C171   \n",
            "\n",
            "                                            Products   Timestamp  \n",
            "0  Dish Sponge, Flatbread with Meat, Chips, Orang...  2025-02-18  \n",
            "1         Onion, Juice, Flatbread with Meat, Chicken  2025-04-26  \n",
            "2            Egg, Flatbread with Meat, Banana, Pizza  2025-04-25  \n",
            "3  Ice Cream, Soda, Orange, Potato, Cereal, Choco...  2025-01-14  \n",
            "4  Ice Cream, Soap, Shampoo, Chicken, Banana, Bea...  2025-04-20  \n",
            "<class 'pandas.core.frame.DataFrame'>\n",
            "RangeIndex: 30000 entries, 0 to 29999\n",
            "Data columns (total 4 columns):\n",
            " #   Column         Non-Null Count  Dtype \n",
            "---  ------         --------------  ----- \n",
            " 0   TransactionID  30000 non-null  int64 \n",
            " 1   CustomerID     30000 non-null  object\n",
            " 2   Products       30000 non-null  object\n",
            " 3   Timestamp      30000 non-null  object\n",
            "dtypes: int64(1), object(3)\n",
            "memory usage: 937.6+ KB\n",
            "None\n"
          ]
        }
      ]
    },
    {
      "cell_type": "code",
      "source": [
        "df.dropna(inplace=True)\n",
        "df['Products'] = df['Products'].str.lower().str.replace('[^a-z, ]', '', regex=True)\n",
        "df['ProductList'] = df['Products'].apply(lambda x: [item.strip() for item in x.split(',')])"
      ],
      "metadata": {
        "id": "zUp8-4w5qbR8"
      },
      "execution_count": 4,
      "outputs": []
    },
    {
      "cell_type": "code",
      "source": [
        "df['Products'] = df['Products'].str.lower().str.replace('[^a-z, ]', '', regex=True)\n",
        "df['ProductList'] = df['Products'].apply(lambda x: [item.strip() for item in x.split(',')])"
      ],
      "metadata": {
        "id": "CUmsnUa-sNPE"
      },
      "execution_count": 13,
      "outputs": []
    },
    {
      "cell_type": "code",
      "source": [
        "transactions = df['ProductList'].tolist()\n",
        "encoder = TransactionEncoder()\n",
        "encoded_array = encoder.fit_transform(transactions)\n",
        "encoded_df = pd.DataFrame(encoded_array, columns=encoder.columns_)\n",
        "\n",
        "frequent_items = apriori(encoded_df, min_support=0.1, use_colnames=True)\n",
        "print(\"\\n✅ Frequent itemsets (support ≥ 10%):\")\n",
        "print(frequent_items.head())\n",
        "\n",
        "rules = association_rules(frequent_items, metric=\"lift\", min_threshold=1.0)\n",
        "important_rules = rules[['antecedents', 'consequents', 'support', 'confidence', 'lift']]\n",
        "important_rules.sort_values(by='lift', ascending=False, inplace=True)\n",
        "print(\"\\n🔗 Top Association Rules:\")\n",
        "print(important_rules.head())"
      ],
      "metadata": {
        "colab": {
          "base_uri": "https://localhost:8080/"
        },
        "id": "IFjFKtnZsQud",
        "outputId": "4c35b84c-a97c-4c53-cf63-2f6a278a54cd"
      },
      "execution_count": 14,
      "outputs": [
        {
          "output_type": "stream",
          "name": "stdout",
          "text": [
            "\n",
            "✅ Frequent itemsets (support ≥ 10%):\n",
            "    support  itemsets\n",
            "0  0.160467   (apple)\n",
            "1  0.163033  (banana)\n",
            "2  0.164967   (beans)\n",
            "3  0.162333   (bread)\n",
            "4  0.162033  (butter)\n",
            "\n",
            "🔗 Top Association Rules:\n",
            "Empty DataFrame\n",
            "Columns: [antecedents, consequents, support, confidence, lift]\n",
            "Index: []\n"
          ]
        },
        {
          "output_type": "stream",
          "name": "stderr",
          "text": [
            "/tmp/ipython-input-14-4168796933.py:12: SettingWithCopyWarning: \n",
            "A value is trying to be set on a copy of a slice from a DataFrame\n",
            "\n",
            "See the caveats in the documentation: https://pandas.pydata.org/pandas-docs/stable/user_guide/indexing.html#returning-a-view-versus-a-copy\n",
            "  important_rules.sort_values(by='lift', ascending=False, inplace=True)\n"
          ]
        }
      ]
    },
    {
      "cell_type": "code",
      "source": [
        "joined_text = df['ProductList'].apply(lambda x: ' '.join(x))\n",
        "tfidf_model = TfidfVectorizer(max_features=100)\n",
        "X = tfidf_model.fit_transform(joined_text).toarray()"
      ],
      "metadata": {
        "id": "YdkwsrWtskRD"
      },
      "execution_count": 15,
      "outputs": []
    },
    {
      "cell_type": "code",
      "source": [
        "silhouette_results = {}\n",
        "cluster_models = {}\n",
        "for k in range(2, 7):\n",
        "    kmeans = KMeans(n_clusters=k, random_state=42)\n",
        "    labels = kmeans.fit_predict(X)\n",
        "    score = silhouette_score(X, labels)\n",
        "    cluster_models[k] = kmeans\n",
        "    silhouette_results[k] = score\n",
        "\n",
        "best_k = max(silhouette_results, key=silhouette_results.get)\n",
        "best_model = cluster_models[best_k]\n",
        "df['cluster'] = best_model.predict(X)\n",
        "\n",
        "print(f\"\\n🏆 Best clustering result: k = {best_k} with silhouette score = {silhouette_results[best_k]:.4f}\")\n"
      ],
      "metadata": {
        "colab": {
          "base_uri": "https://localhost:8080/"
        },
        "id": "jIsWKxHyq-pF",
        "outputId": "4ecf784d-9f24-4a3f-8284-49ad1c6576ce"
      },
      "execution_count": 25,
      "outputs": [
        {
          "output_type": "stream",
          "name": "stdout",
          "text": [
            "\n",
            "🏆 Best clustering result: k = 5 with silhouette score = 0.0627\n"
          ]
        }
      ]
    },
    {
      "cell_type": "code",
      "source": [
        "plt.figure(figsize=(8, 4))\n",
        "sns.countplot(data=df, x='cluster', palette='viridis')\n",
        "plt.title(f\"Cluster Distribution (k = {best_k})\")\n",
        "plt.xlabel(\"Cluster\")\n",
        "plt.ylabel(\"Number of Transactions\")\n",
        "plt.tight_layout()\n",
        "plt.show()"
      ],
      "metadata": {
        "colab": {
          "base_uri": "https://localhost:8080/",
          "height": 494
        },
        "id": "rKIm2KZNr5J2",
        "outputId": "68736bb3-4d5b-435c-9736-c11ba91ef15b"
      },
      "execution_count": 26,
      "outputs": [
        {
          "output_type": "stream",
          "name": "stderr",
          "text": [
            "/tmp/ipython-input-26-1468163307.py:2: FutureWarning: \n",
            "\n",
            "Passing `palette` without assigning `hue` is deprecated and will be removed in v0.14.0. Assign the `x` variable to `hue` and set `legend=False` for the same effect.\n",
            "\n",
            "  sns.countplot(data=df, x='cluster', palette='viridis')\n"
          ]
        },
        {
          "output_type": "display_data",
          "data": {
            "text/plain": [
              "<Figure size 800x400 with 1 Axes>"
            ],
            "image/png": "[encoded data removed]"
          },
          "metadata": {}
        }
      ]
    },
    {
      "cell_type": "code",
      "source": [
        "for i in sorted(df['cluster'].unique()):\n",
        "    print(f\"\\n📦 Cluster {i} Sample Transactions:\")\n",
        "    print(df[df['cluster'] == i]['Products'].head(3).to_string(index=False))\n"
      ],
      "metadata": {
        "colab": {
          "base_uri": "https://localhost:8080/"
        },
        "id": "yKufjcYqr-TA",
        "outputId": "73ccfc90-a72e-42b4-9024-458e084b403a"
      },
      "execution_count": 27,
      "outputs": [
        {
          "output_type": "stream",
          "name": "stdout",
          "text": [
            "\n",
            "📦 Cluster 0 Sample Transactions:\n",
            "                   soda, rice, soap, chickpeas\n",
            "           sausage, strawberry, cracker, pizza\n",
            "potato, chicken, cucumber, soda, butter, juice\n",
            "\n",
            "📦 Cluster 1 Sample Transactions:\n",
            "dish sponge, flatbread with meat, chips, orange...\n",
            "ice cream, soda, orange, potato, cereal, chocol...\n",
            "ice cream, soap, shampoo, chicken, banana, bean...\n",
            "\n",
            "📦 Cluster 2 Sample Transactions:\n",
            "cookie, cereal, sausage, chips, chocolate, lent...\n",
            "milk, minced meat, chips, chicken, onion, chees...\n",
            "cracker, sausage, dumpling, cookie, detergent, ...\n",
            "\n",
            "📦 Cluster 3 Sample Transactions:\n",
            "     dish sponge, onion, detergent, egg, chicken\n",
            "cereal, minced meat, banana, dish sponge, orange\n",
            "             yogurt, dish sponge, butter, cookie\n",
            "\n",
            "📦 Cluster 4 Sample Transactions:\n",
            "        onion, juice, flatbread with meat, chicken\n",
            "           egg, flatbread with meat, banana, pizza\n",
            "juice, shampoo, bread, flatbread with meat, cra...\n"
          ]
        }
      ]
    },
    {
      "cell_type": "code",
      "source": [
        "plt.figure(figsize=(6, 4))\n",
        "plt.plot(list(silhouette_results.keys()), list(silhouette_results.values()), marker='o', color='crimson')\n",
        "plt.title(\"Silhouette Score Across Cluster Sizes\")\n",
        "plt.xlabel(\"Number of Clusters\")\n",
        "plt.ylabel(\"Silhouette Score\")\n",
        "plt.grid(True)\n",
        "plt.tight_layout()\n",
        "plt.show()"
      ],
      "metadata": {
        "colab": {
          "base_uri": "https://localhost:8080/",
          "height": 407
        },
        "id": "U3dNwahMsChw",
        "outputId": "a8319c85-cab4-408c-9f8d-4ee1ef22333c"
      },
      "execution_count": 28,
      "outputs": [
        {
          "output_type": "display_data",
          "data": {
            "text/plain": [
              "<Figure size 600x400 with 1 Axes>"
            ],
            "image/png": "[encoded data removed]"
          },
          "metadata": {}
        }
      ]
    },
    {
      "cell_type": "code",
      "source": [
        "print(\"\\n📌 Model Performance Summary:\")\n",
        "for k, score in silhouette_results.items():\n",
        "    print(f\"Clusters = {k} → Silhouette Score = {score:.4f}\")\n",
        "\n",
        "print(\"\\n🧠 Best Performing Model:\")\n",
        "print(f\"KMeans with {best_k} clusters\")\n",
        "\n",
        "print(\"\\n🔍 Top 5 Association Rules:\")\n",
        "print(important_rules.head())\n"
      ],
      "metadata": {
        "colab": {
          "base_uri": "https://localhost:8080/"
        },
        "id": "ncLBenD0t133",
        "outputId": "d2d42d9c-a65e-41d8-a682-76c5a38f8dc1"
      },
      "execution_count": 29,
      "outputs": [
        {
          "output_type": "stream",
          "name": "stdout",
          "text": [
            "\n",
            "📌 Model Performance Summary:\n",
            "Clusters = 2 → Silhouette Score = 0.0332\n",
            "Clusters = 3 → Silhouette Score = 0.0508\n",
            "Clusters = 4 → Silhouette Score = 0.0618\n",
            "Clusters = 5 → Silhouette Score = 0.0627\n",
            "Clusters = 6 → Silhouette Score = 0.0625\n",
            "\n",
            "🧠 Best Performing Model:\n",
            "KMeans with 5 clusters\n",
            "\n",
            "🔍 Top 5 Association Rules:\n",
            "Empty DataFrame\n",
            "Columns: [antecedents, consequents, support, confidence, lift]\n",
            "Index: []\n"
          ]
        }
      ]
    }
  ]
}